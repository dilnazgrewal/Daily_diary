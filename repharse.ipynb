{
 "cells": [
  {
   "cell_type": "code",
   "execution_count": 1,
   "id": "e443a800",
   "metadata": {},
   "outputs": [
    {
     "name": "stderr",
     "output_type": "stream",
     "text": [
      "C:\\Users\\HP\\AppData\\Roaming\\Python\\Python312\\site-packages\\tqdm\\auto.py:21: TqdmWarning: IProgress not found. Please update jupyter and ipywidgets. See https://ipywidgets.readthedocs.io/en/stable/user_install.html\n",
      "  from .autonotebook import tqdm as notebook_tqdm\n"
     ]
    }
   ],
   "source": [
    "import os\n",
    "import re\n",
    "import google.generativeai as genai\n",
    "from datetime import datetime"
   ]
  },
  {
   "cell_type": "code",
   "execution_count": null,
   "id": "33e25935",
   "metadata": {},
   "outputs": [],
   "source": [
    "genai.configure(api_key=\"your_api_key\")\n",
    "model = genai.GenerativeModel(\"models/gemini-1.5-flash\")"
   ]
  },
  {
   "cell_type": "code",
   "execution_count": 3,
   "id": "84c76521",
   "metadata": {},
   "outputs": [],
   "source": [
    "def load_summary(filepath=\"summary.md\"):\n",
    "    if not os.path.exists(filepath):\n",
    "        print(\"⚠️ Summary file not found!\")\n",
    "        return None\n",
    "    with open(filepath, \"r\", encoding=\"utf-8\") as f:\n",
    "        return f.read()"
   ]
  },
  {
   "cell_type": "code",
   "execution_count": 4,
   "id": "b0d7f24d",
   "metadata": {},
   "outputs": [],
   "source": [
    "def rephrase_with_gemini(text):\n",
    "    prompt = f\"\"\"Rephrase the following summary in a detailed, professional, and structured manner suitable for platforms like LinkedIn or formal documentation.\n",
    "\n",
    "✅ Instructions:\n",
    "- Preserve the bullet point format\n",
    "- Elaborate the content mot making too long\n",
    "- Use clear and polished language\n",
    "- Avoid repetition\n",
    "- Keep it formal and technical if needed\n",
    "\n",
    "Summary:\n",
    "{text}\n",
    "\"\"\"\n",
    "\n",
    "    response = model.generate_content(prompt)\n",
    "    return response.text.strip()"
   ]
  },
  {
   "cell_type": "code",
   "execution_count": 5,
   "id": "e1d03f8b",
   "metadata": {},
   "outputs": [],
   "source": [
    "def save_rephrased(rephrased_text, out_path=\"rephrased_summary.md\"):\n",
    "    with open(out_path, \"w\", encoding=\"utf-8\") as f:\n",
    "        # f.write(\"# ✍️ Rephrased Summary\\n\\n\")\n",
    "        f.write(rephrased_text)\n",
    "    print(f\"✅ Rephrased summary saved to '{out_path}'\")"
   ]
  },
  {
   "cell_type": "code",
   "execution_count": 6,
   "id": "1bf88012",
   "metadata": {},
   "outputs": [
    {
     "name": "stdout",
     "output_type": "stream",
     "text": [
      "✅ Rephrased summary saved to 'rephrased_summary.md'\n"
     ]
    }
   ],
   "source": [
    "summary = load_summary()\n",
    "if summary:\n",
    "    clean_text = re.sub(r'#.*\\n', '', summary).strip()  # remove markdown titles\n",
    "    new_summary = rephrase_with_gemini(clean_text)\n",
    "    save_rephrased(new_summary)"
   ]
  },
  {
   "cell_type": "code",
   "execution_count": 7,
   "id": "769ced67",
   "metadata": {},
   "outputs": [
    {
     "name": "stdout",
     "output_type": "stream",
     "text": [
      "💬 Rephrased Summary:\n",
      "\n",
      "**ChatGPT: A Comprehensive Overview of Capabilities, Implications, and Impacts**\n",
      "\n",
      "This document provides a detailed analysis of ChatGPT, a generative AI chatbot developed by OpenAI and released in November 2022.  Its rapid adoption and significant impact across various sectors necessitate a thorough examination of its capabilities, limitations, and societal implications.\n",
      "\n",
      "**I. Technological Foundation and Development:**\n",
      "\n",
      "* **Model Architecture and Training:** ChatGPT leverages large language models (LLMs), including GPT-3.5, GPT-4, and subsequent iterations (e.g., GPT-4.5,  o3, o4-mini), fine-tuned for conversational applications. This fine-tuning process employed supervised learning, where human trainers acted as both users and AI assistants, and reinforcement learning from human feedback (RLHF), using human-provided rankings of model responses to refine a reward model.  Ethical concerns arose regarding the working conditions and compensation of outsourced workers involved in labeling harmful content for safety training.  The training data encompassed a diverse range of sources, including software manuals, internet information, programming languages, and Wikipedia text, with ongoing refinement through user feedback.\n",
      "\n",
      "* **Functionality and Capabilities:** ChatGPT functions as a versatile conversational AI assistant, offering capabilities such as code generation and debugging, creative content creation (music composition, storytelling, essay writing), question answering, business idea generation, translation, summarization, system simulation, and game playing. Post-release feature additions include web browsing and code interpretation plugins, external developer plugins, a web search function, telephone call capabilities, and advanced image editing functionalities.  User interaction occurs through text, audio, and image inputs and outputs, with user-controllable conversation history memory and a moderation API to filter offensive queries.\n",
      "\n",
      "**II. Limitations and Challenges:**\n",
      "\n",
      "* **Data Limitations and Bias:** The training data's cutoff date limits knowledge of recent events, although web search capabilities partially mitigate this. Accuracy is not guaranteed due to potential reliance on unreliable online sources, and access to local files remains unavailable.  Algorithmic bias inherent in the training data, coupled with the potential for over-optimization of the reward model (Goodhart's Law), can lead to skewed or inaccurate outputs, particularly when prompting with descriptors of people.\n",
      "\n",
      "* **Hallucinations and Jailbreaking:**  ChatGPT exhibits \"hallucinations\"—generating plausible but factually incorrect or nonsensical responses—a common LLM limitation analogous to lossy text compression.  Despite content policy restrictions, \"jailbreaking\" techniques can bypass these safeguards, enabling access to otherwise blocked responses.\n",
      "\n",
      "\n",
      "**III. Deployment and Monetization:**\n",
      "\n",
      "* **Pricing Model and Accessibility:**  Initially free, ChatGPT transitioned to a freemium model, offering a paid tier (ChatGPT Plus, Pro, Team, and Enterprise) with increased usage limits and access to advanced features and models.  The features offered in paid plans have evolved over time.  Mobile applications are available for iOS and Android, and the underlying infrastructure utilizes a Microsoft Azure supercomputing platform leveraging numerous Nvidia GPUs.\n",
      "\n",
      "\n",
      "**IV. Societal Impact and Ethical Considerations:**\n",
      "\n",
      "* **Widespread Adoption and Competition:**  ChatGPT's release generated widespread acclaim and record-breaking user growth, prompting a significant competitive response from other tech companies.  Concerns regarding the potential risks of powerful AI systems were also voiced by prominent figures.\n",
      "\n",
      "* **Geopolitical and Regulatory Aspects:**  ChatGPT was not publicly available in China, where it faced negative portrayal by state media and spurred the development of a shadow market for access.  It was also implicated in state-backed influence operations. Italy temporarily banned ChatGPT due to privacy and age-appropriateness concerns, subsequently lifting the ban after OpenAI implemented changes.  Legal challenges concerning false information and data privacy have also been initiated against OpenAI.\n",
      "\n",
      "* **Applications Across Diverse Sectors:** ChatGPT's impact extends across numerous fields:\n",
      "    * **Academic Research:** Use in generating scientific texts raises ethical concerns about authorship and plagiarism.\n",
      "    * **Computer Science:** Demonstrated varying accuracy in code generation and question answering, with some platforms banning ChatGPT-generated responses due to inaccuracies and vulnerability to cyberattacks.\n",
      "    * **Computer Security:** Used to create phishing emails and malware.\n",
      "    * **Education:**  Ethical use and integration into assessments are debated.\n",
      "    * **Culture:**  Generated various creative works, raising questions about authenticity and bias.\n",
      "    * **Financial Markets:**  Company valuations impacted by its adoption, influencing cryptocurrency and investment strategies.\n",
      "    * **Medicine:** Performance on medical exams revealed both potential benefits and significant limitations in accuracy and reliability.\n",
      "    * **Law:** Ethical discussions and legal challenges highlight risks of unverifiable AI-generated legal information.\n",
      "\n",
      "This overview highlights the significant capabilities and widespread impact of ChatGPT, emphasizing both its potential and the critical need for ongoing research and ethical considerations surrounding its development and deployment.  Further detailed analysis of specific aspects, including model version comparisons and a comprehensive review of cited literature, would be beneficial for a more in-depth understanding.\n"
     ]
    }
   ],
   "source": [
    "import time\n",
    "import sys\n",
    "\n",
    "# Load the rephrased summary\n",
    "with open(\"rephrased_summary.md\", \"r\", encoding=\"utf-8\") as f:\n",
    "    rephrased_summary_text = f.read()\n",
    "\n",
    "# Typing effect\n",
    "def type_text(text, delay=0.005):\n",
    "    for char in text:\n",
    "        print(char, end='', flush=True)\n",
    "        time.sleep(delay)\n",
    "    print()  # newline after done\n",
    "\n",
    "print(\"💬 Rephrased Summary:\\n\")\n",
    "type_text(rephrased_summary_text)"
   ]
  },
  {
   "cell_type": "code",
   "execution_count": null,
   "id": "7106c80e",
   "metadata": {},
   "outputs": [],
   "source": []
  }
 ],
 "metadata": {
  "kernelspec": {
   "display_name": "Python 3",
   "language": "python",
   "name": "python3"
  },
  "language_info": {
   "codemirror_mode": {
    "name": "ipython",
    "version": 3
   },
   "file_extension": ".py",
   "mimetype": "text/x-python",
   "name": "python",
   "nbconvert_exporter": "python",
   "pygments_lexer": "ipython3",
   "version": "3.12.4"
  }
 },
 "nbformat": 4,
 "nbformat_minor": 5
}
