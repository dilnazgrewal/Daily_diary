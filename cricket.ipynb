{
 "cells": [
  {
   "cell_type": "code",
   "execution_count": 1,
   "id": "28952d54",
   "metadata": {},
   "outputs": [],
   "source": [
    "import os\n",
    "import requests\n",
    "from bs4 import BeautifulSoup\n",
    "from dotenv import load_dotenv\n",
    "\n",
    "from langchain.agents import initialize_agent, Tool\n",
    "from langchain.agents.agent_types import AgentType\n",
    "from langchain_google_genai import ChatGoogleGenerativeAI"
   ]
  },
  {
   "cell_type": "code",
   "execution_count": 2,
   "id": "8f8490fc",
   "metadata": {},
   "outputs": [],
   "source": [
    "# Load keys\n",
    "load_dotenv()\n",
    "GOOGLE_API_KEY = os.getenv(\"GOOGLE_API_KEY\")"
   ]
  },
  {
   "cell_type": "code",
   "execution_count": 3,
   "id": "88c869d2",
   "metadata": {},
   "outputs": [],
   "source": [
    "def scrape_cricbuzz(_: str = \"\") -> str:\n",
    "    try:\n",
    "        url = \"https://www.cricbuzz.com/cricket-match/live-scores\"\n",
    "        res = requests.get(url, headers={\"User-Agent\": \"Mozilla/5.0\"})\n",
    "        soup = BeautifulSoup(res.text, \"html.parser\")\n",
    "\n",
    "        live_boxes = soup.find_all(\"div\", class_=\"cb-mtch-lst\")[:3]  # Top 3 matches\n",
    "        if not live_boxes:\n",
    "            return \"No live matches found right now.\"\n",
    "\n",
    "        summary = \"\"\n",
    "        for box in live_boxes:\n",
    "            header = box.find(\"a\")\n",
    "            if not header:\n",
    "                continue\n",
    "            title = header.text.strip()\n",
    "            link = \"https://www.cricbuzz.com\" + header.get(\"href\")\n",
    "            score_tag = box.find(\"div\", class_=\"cb-scr-wll-chvrn\")\n",
    "            score = score_tag.text.strip() if score_tag else \"Score not available\"\n",
    "            summary += f\"🏏 {title}\\n{score}\\n🔗 {link}\\n\\n\"\n",
    "\n",
    "        return summary.strip()\n",
    "    except Exception as e:\n",
    "        return f\"❌ Error scraping Cricbuzz: {e}\""
   ]
  },
  {
   "cell_type": "code",
   "execution_count": 4,
   "id": "9352bd6d",
   "metadata": {},
   "outputs": [],
   "source": [
    "# -------------------------\n",
    "# Step 2: LangChain Tool\n",
    "# -------------------------\n",
    "cricket_tool = Tool(\n",
    "    name=\"get_live_cricket_scores\",\n",
    "    func=scrape_cricbuzz,\n",
    "    description=\"Scrapes Cricbuzz and returns full live match summaries, including team names, scores, and match status. Use when the user asks for live cricket details.\"\n",
    "\n",
    ")"
   ]
  },
  {
   "cell_type": "code",
   "execution_count": 5,
   "id": "c8fe40a3",
   "metadata": {},
   "outputs": [
    {
     "name": "stderr",
     "output_type": "stream",
     "text": [
      "C:\\Users\\HP\\AppData\\Local\\Temp\\ipykernel_3004\\33749749.py:9: LangChainDeprecationWarning: LangChain agents will continue to be supported, but it is recommended for new use cases to be built with LangGraph. LangGraph offers a more flexible and full-featured framework for building agents, including support for tool-calling, persistence of state, and human-in-the-loop workflows. For details, refer to the `LangGraph documentation <https://langchain-ai.github.io/langgraph/>`_ as well as guides for `Migrating from AgentExecutor <https://python.langchain.com/docs/how_to/migrate_agent/>`_ and LangGraph's `Pre-built ReAct agent <https://langchain-ai.github.io/langgraph/how-tos/create-react-agent/>`_.\n",
      "  agent = initialize_agent(\n"
     ]
    }
   ],
   "source": [
    "# Step 3: Gemini LLM + Agent\n",
    "# -------------------------\n",
    "llm = ChatGoogleGenerativeAI(\n",
    "    model=\"gemini-1.5-flash\",\n",
    "    temperature=0,\n",
    "    google_api_key=GOOGLE_API_KEY\n",
    ")\n",
    "\n",
    "agent = initialize_agent(\n",
    "    tools=[cricket_tool],\n",
    "    llm=llm,\n",
    "    agent=AgentType.ZERO_SHOT_REACT_DESCRIPTION,\n",
    "    verbose=True\n",
    ")\n"
   ]
  },
  {
   "cell_type": "code",
   "execution_count": 6,
   "id": "da73c6a1",
   "metadata": {},
   "outputs": [
    {
     "name": "stderr",
     "output_type": "stream",
     "text": [
      "C:\\Users\\HP\\AppData\\Local\\Temp\\ipykernel_3004\\759244360.py:5: LangChainDeprecationWarning: The method `Chain.run` was deprecated in langchain 0.1.0 and will be removed in 1.0. Use :meth:`~invoke` instead.\n",
      "  response = agent.run(query)\n"
     ]
    },
    {
     "name": "stdout",
     "output_type": "stream",
     "text": [
      "\n",
      "\n",
      "\u001b[1m> Entering new AgentExecutor chain...\u001b[0m\n",
      "\u001b[32;1m\u001b[1;3mThought: The user wants live cricket scores.  I should use the `get_live_cricket_scores` function to get the information.\n",
      "Action: get_live_cricket_scores\n",
      "Action Input: \"\"\u001b[0m\n",
      "Observation: \u001b[36;1m\u001b[1;3m🏏 Qatar vs Saudi Arabia,\n",
      "QAT101 (17.4 Ovs) SAU100-7 (20 Ovs) Qatar won by 1 run\n",
      "🔗 https://www.cricbuzz.com/live-cricket-scores/127247/qat-vs-sau-1st-match-saudi-arabia-tour-of-qatar-2025\n",
      "\n",
      "🏏 Singapore vs Malaysia,\n",
      "SIN105-9 (20 Ovs) MLY107-4 (9.4 Ovs) Malaysia won by 6 wkts\n",
      "🔗 https://www.cricbuzz.com/live-cricket-scores/127153/sin-vs-mly-3rd-match-asia-pacific-cricket-champions-trophy-2025\n",
      "\n",
      "🏏 Guyana Amazon Warriors vs Rangpur Riders,\n",
      "GAW196-4 (20 Ovs) RGR164 (19.5 Ovs) Guyana Amazon Warriors won by 32 runs\n",
      "🔗 https://www.cricbuzz.com/live-cricket-scores/119531/gaw-vs-rgr-final-global-super-league-2025\u001b[0m\n",
      "Thought:\u001b[32;1m\u001b[1;3mQuestion: Show me the current live cricket scores with details\n",
      "Thought:The user wants live cricket scores.  I should use the `get_live_cricket_scores` function to get the information.\n",
      "Action: get_live_cricket_scores\n",
      "Action Input: \"\"\u001b[0m\n",
      "Observation: \u001b[36;1m\u001b[1;3m🏏 Qatar vs Saudi Arabia,\n",
      "QAT101 (17.4 Ovs) SAU100-7 (20 Ovs) Qatar won by 1 run\n",
      "🔗 https://www.cricbuzz.com/live-cricket-scores/127247/qat-vs-sau-1st-match-saudi-arabia-tour-of-qatar-2025\n",
      "\n",
      "🏏 Singapore vs Malaysia,\n",
      "SIN105-9 (20 Ovs) MLY107-4 (9.4 Ovs) Malaysia won by 6 wkts\n",
      "🔗 https://www.cricbuzz.com/live-cricket-scores/127153/sin-vs-mly-3rd-match-asia-pacific-cricket-champions-trophy-2025\n",
      "\n",
      "🏏 Guyana Amazon Warriors vs Rangpur Riders,\n",
      "GAW196-4 (20 Ovs) RGR164 (19.5 Ovs) Guyana Amazon Warriors won by 32 runs\n",
      "🔗 https://www.cricbuzz.com/live-cricket-scores/119531/gaw-vs-rgr-final-global-super-league-2025\u001b[0m\n",
      "Thought:\u001b[32;1m\u001b[1;3mThought: I have the live cricket scores from the `get_live_cricket_scores` function.  I can now format this into a final answer.\n",
      "Final Answer: Here are the current live cricket scores:\n",
      "\n",
      "* **Qatar vs Saudi Arabia:** QAT 101 (17.4 Ovs) beat SAU 100-7 (20 Ovs) by 1 run.  [Link](https://www.cricbuzz.com/live-cricket-scores/127247/qat-vs-sau-1st-match-saudi-arabia-tour-of-qatar-2025)\n",
      "* **Singapore vs Malaysia:** MLY 107-4 (9.4 Ovs) beat SIN 105-9 (20 Ovs) by 6 wickets. [Link](https://www.cricbuzz.com/live-cricket-scores/127153/sin-vs-mly-3rd-match-asia-pacific-cricket-champions-trophy-2025)\n",
      "* **Guyana Amazon Warriors vs Rangpur Riders:** GAW 196-4 (20 Ovs) beat RGR 164 (19.5 Ovs) by 32 runs. [Link](https://www.cricbuzz.com/live-cricket-scores/119531/gaw-vs-rgr-final-global-super-league-2025)\u001b[0m\n",
      "\n",
      "\u001b[1m> Finished chain.\u001b[0m\n",
      "\n",
      "🏏 Live Cricket Scores:\n",
      "Here are the current live cricket scores:\n",
      "\n",
      "* **Qatar vs Saudi Arabia:** QAT 101 (17.4 Ovs) beat SAU 100-7 (20 Ovs) by 1 run.  [Link](https://www.cricbuzz.com/live-cricket-scores/127247/qat-vs-sau-1st-match-saudi-arabia-tour-of-qatar-2025)\n",
      "* **Singapore vs Malaysia:** MLY 107-4 (9.4 Ovs) beat SIN 105-9 (20 Ovs) by 6 wickets. [Link](https://www.cricbuzz.com/live-cricket-scores/127153/sin-vs-mly-3rd-match-asia-pacific-cricket-champions-trophy-2025)\n",
      "* **Guyana Amazon Warriors vs Rangpur Riders:** GAW 196-4 (20 Ovs) beat RGR 164 (19.5 Ovs) by 32 runs. [Link](https://www.cricbuzz.com/live-cricket-scores/119531/gaw-vs-rgr-final-global-super-league-2025)\n",
      "🏏 Qatar vs Saudi Arabia,\n",
      "QAT101 (17.4 Ovs) SAU100-7 (20 Ovs) Qatar won by 1 run\n",
      "🔗 https://www.cricbuzz.com/live-cricket-scores/127247/qat-vs-sau-1st-match-saudi-arabia-tour-of-qatar-2025\n",
      "\n",
      "🏏 Singapore vs Malaysia,\n",
      "SIN105-9 (20 Ovs) MLY107-4 (9.4 Ovs) Malaysia won by 6 wkts\n",
      "🔗 https://www.cricbuzz.com/live-cricket-scores/127153/sin-vs-mly-3rd-match-asia-pacific-cricket-champions-trophy-2025\n",
      "\n",
      "🏏 Guyana Amazon Warriors vs Rangpur Riders,\n",
      "GAW196-4 (20 Ovs) RGR164 (19.5 Ovs) Guyana Amazon Warriors won by 32 runs\n",
      "🔗 https://www.cricbuzz.com/live-cricket-scores/119531/gaw-vs-rgr-final-global-super-league-2025\n"
     ]
    }
   ],
   "source": [
    "# -------------------------\n",
    "# Step 4: Query\n",
    "# -------------------------\n",
    "query = \"Show me the current live cricket scores with details\"\n",
    "response = agent.run(query)\n",
    "\n",
    "print(\"\\n🏏 Live Cricket Scores:\")\n",
    "print(response)\n",
    "print(scrape_cricbuzz())"
   ]
  },
  {
   "cell_type": "code",
   "execution_count": null,
   "id": "4bc91c08",
   "metadata": {},
   "outputs": [],
   "source": []
  }
 ],
 "metadata": {
  "kernelspec": {
   "display_name": "base",
   "language": "python",
   "name": "python3"
  },
  "language_info": {
   "codemirror_mode": {
    "name": "ipython",
    "version": 3
   },
   "file_extension": ".py",
   "mimetype": "text/x-python",
   "name": "python",
   "nbconvert_exporter": "python",
   "pygments_lexer": "ipython3",
   "version": "3.12.4"
  }
 },
 "nbformat": 4,
 "nbformat_minor": 5
}
