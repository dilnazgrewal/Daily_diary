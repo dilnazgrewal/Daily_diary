{
 "cells": [
  {
   "cell_type": "code",
   "execution_count": 1,
   "id": "3dab08aa",
   "metadata": {},
   "outputs": [],
   "source": [
    "import requests\n",
    "from bs4 import BeautifulSoup\n",
    "from urllib.parse import urljoin, urlparse"
   ]
  },
  {
   "cell_type": "code",
   "execution_count": 2,
   "id": "74cd76c1",
   "metadata": {},
   "outputs": [],
   "source": [
    "def get_links(url):\n",
    "    try:\n",
    "        response = requests.get(url)\n",
    "        soup = BeautifulSoup(response.content, \"html.parser\")\n",
    "        base_domain = urlparse(url).netloc\n",
    "\n",
    "        internal_links = set()\n",
    "        external_links = set()\n",
    "\n",
    "        for tag in soup.find_all(\"a\", href=True):\n",
    "            href = tag.get(\"href\")\n",
    "            full_url = urljoin(url, href)  # Makes relative URLs absolute\n",
    "            parsed_url = urlparse(full_url)\n",
    "\n",
    "            if parsed_url.scheme.startswith(\"http\"):\n",
    "                if parsed_url.netloc == base_domain:\n",
    "                    internal_links.add(full_url)\n",
    "                else:\n",
    "                    external_links.add(full_url)\n",
    "\n",
    "        return internal_links, external_links\n",
    "    \n",
    "    except Exception as e:\n",
    "        print(f\"Error: {e}\")\n",
    "        return set(), set()"
   ]
  },
  {
   "cell_type": "code",
   "execution_count": 3,
   "id": "3e557a2d",
   "metadata": {},
   "outputs": [
    {
     "name": "stdout",
     "output_type": "stream",
     "text": [
      "🔗 Internal Links (Top 10):\n",
      "https://en.wikipedia.org/w/index.php?title=Artificial_intelligence_and_copyright&action=edit\n",
      "https://en.wikipedia.org/w/index.php?title=ChatGPT&action=edit\n",
      "https://en.wikipedia.org/w/index.php?title=ChatGPT&action=history\n",
      "https://en.wikipedia.org/w/index.php?title=ChatGPT&action=info\n",
      "https://en.wikipedia.org/w/index.php?title=ChatGPT&oldid=1299188904\n",
      "https://en.wikipedia.org/w/index.php?title=ChatGPT&printable=yes\n",
      "https://en.wikipedia.org/w/index.php?title=ChatGPT_in_education&action=edit\n",
      "https://en.wikipedia.org/w/index.php?title=GPT-4&action=edit\n",
      "https://en.wikipedia.org/w/index.php?title=GPT-4o&action=edit\n",
      "https://en.wikipedia.org/w/index.php?title=Health_Science_Reports&action=edit&redlink=1\n",
      "\n",
      "🌍 External Links (Top 10):\n",
      "http://web.archive.org/web/20241206102714/https://www.reuters.com/technology/chatgpt-sets-record-fastest-growing-user-base-analyst-note-2023-02-01/\n",
      "http://web.archive.org/web/20250316161634/https://www.reuters.com/legal/new-york-lawyers-sanctioned-using-fake-chatgpt-cases-legal-brief-2023-06-22/\n",
      "https://af.wikipedia.org/wiki/ChatGPT\n",
      "https://aleph.nkp.cz/F/?func=find-c&local_base=aut&ccl_term=ica=unn20231201904&CON_LNG=ENG\n",
      "https://an.wikipedia.org/wiki/ChatGPT\n",
      "https://ang.wikipedia.org/wiki/ChatGPT\n",
      "https://api.semanticscholar.org/CorpusID:255969365\n",
      "https://api.semanticscholar.org/CorpusID:256501098\n",
      "https://api.semanticscholar.org/CorpusID:256655912\n",
      "https://api.semanticscholar.org/CorpusID:256659547\n"
     ]
    }
   ],
   "source": [
    "url = input(\"Enter the url: \")\n",
    "internal, external = get_links(url)\n",
    "\n",
    "print(\"🔗 Internal Links (Top 10):\")\n",
    "for link in list(sorted(internal))[:10]:\n",
    "    print(link)\n",
    "\n",
    "print(\"\\n🌍 External Links (Top 10):\")\n",
    "for link in list(sorted(external))[:10]:\n",
    "    print(link)\n"
   ]
  },
  {
   "cell_type": "code",
   "execution_count": null,
   "id": "11f90f94",
   "metadata": {},
   "outputs": [],
   "source": []
  }
 ],
 "metadata": {
  "kernelspec": {
   "display_name": "Python 3",
   "language": "python",
   "name": "python3"
  },
  "language_info": {
   "codemirror_mode": {
    "name": "ipython",
    "version": 3
   },
   "file_extension": ".py",
   "mimetype": "text/x-python",
   "name": "python",
   "nbconvert_exporter": "python",
   "pygments_lexer": "ipython3",
   "version": "3.12.4"
  }
 },
 "nbformat": 4,
 "nbformat_minor": 5
}
