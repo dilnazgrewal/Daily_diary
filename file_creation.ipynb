{
 "cells": [
  {
   "cell_type": "code",
   "execution_count": 1,
   "id": "c561c85b",
   "metadata": {},
   "outputs": [],
   "source": [
    "import pandas as pd"
   ]
  },
  {
   "cell_type": "code",
   "execution_count": 2,
   "id": "88380e65",
   "metadata": {},
   "outputs": [],
   "source": [
    "data = [\n",
    "    {\n",
    "        \"prompt\": \"Write a Python function to add two numbers.\",\n",
    "        \"completion\": \"def add(a, b):\\n    return a + b\"\n",
    "    },\n",
    "    {\n",
    "        \"prompt\": \"Write a Python function to check if a number is even.\",\n",
    "        \"completion\": \"def is_even(n):\\n    return n % 2 == 0\"\n",
    "    },\n",
    "    {\n",
    "        \"prompt\": \"Write a Python function to find factorial.\",\n",
    "        \"completion\": \"def factorial(n):\\n    return 1 if n == 0 else n * factorial(n-1)\"\n",
    "    },\n",
    "]\n"
   ]
  },
  {
   "cell_type": "code",
   "execution_count": 3,
   "id": "e657583a",
   "metadata": {},
   "outputs": [
    {
     "name": "stdout",
     "output_type": "stream",
     "text": [
      "                                              prompt  \\\n",
      "0        Write a Python function to add two numbers.   \n",
      "1  Write a Python function to check if a number i...   \n",
      "2         Write a Python function to find factorial.   \n",
      "\n",
      "                                          completion  \n",
      "0                   def add(a, b):\\n    return a + b  \n",
      "1             def is_even(n):\\n    return n % 2 == 0  \n",
      "2  def factorial(n):\\n    return 1 if n == 0 else...  \n"
     ]
    }
   ],
   "source": [
    "df = pd.DataFrame(data)\n",
    "df.to_csv(\"code_generation_dataset.csv\", index=False)\n",
    "print(df.head())"
   ]
  },
  {
   "cell_type": "code",
   "execution_count": 4,
   "id": "d5810b42",
   "metadata": {},
   "outputs": [],
   "source": [
    "import json"
   ]
  },
  {
   "cell_type": "code",
   "execution_count": 5,
   "id": "b3e2a062",
   "metadata": {},
   "outputs": [],
   "source": [
    "# Train-test split (80-20)\n",
    "train_df = df.sample(frac=0.8, random_state=42)\n",
    "test_df = df.drop(train_df.index)"
   ]
  },
  {
   "cell_type": "code",
   "execution_count": 6,
   "id": "e8da12aa",
   "metadata": {},
   "outputs": [],
   "source": [
    "def save_jsonl(df, filename):\n",
    "    with open(filename, \"w\") as f:\n",
    "        for _, row in df.iterrows():\n",
    "            entry = {\n",
    "                \"messages\": [\n",
    "                    {\"role\": \"user\", \"content\": row['prompt']},\n",
    "                    {\"role\": \"assistant\", \"content\": row['completion']}\n",
    "                ]\n",
    "            }\n",
    "            f.write(json.dumps(entry) + \"\\n\")\n",
    "\n",
    "save_jsonl(train_df, \"train.jsonl\")\n",
    "save_jsonl(test_df, \"test.jsonl\")"
   ]
  },
  {
   "cell_type": "code",
   "execution_count": 7,
   "id": "98511c6a",
   "metadata": {},
   "outputs": [
    {
     "name": "stdout",
     "output_type": "stream",
     "text": [
      "\n",
      "📂 Contents of train.jsonl:\n",
      "{\"messages\": [{\"role\": \"user\", \"content\": \"Write a Python function to add two numbers.\"}, {\"role\": \"assistant\", \"content\": \"def add(a, b):\\n    return a + b\"}]}\n",
      "{\"messages\": [{\"role\": \"user\", \"content\": \"Write a Python function to check if a number is even.\"}, {\"role\": \"assistant\", \"content\": \"def is_even(n):\\n    return n % 2 == 0\"}]}\n",
      "\n",
      "📂 Contents of test.jsonl:\n",
      "{\"messages\": [{\"role\": \"user\", \"content\": \"Write a Python function to find factorial.\"}, {\"role\": \"assistant\", \"content\": \"def factorial(n):\\n    return 1 if n == 0 else n * factorial(n-1)\"}]}\n"
     ]
    }
   ],
   "source": [
    "# Print JSONL files\n",
    "def print_jsonl(filename):\n",
    "    print(f\"\\n📂 Contents of {filename}:\")\n",
    "    with open(filename, \"r\") as f:\n",
    "        for line in f:\n",
    "            print(line.strip())\n",
    "\n",
    "print_jsonl(\"train.jsonl\")\n",
    "print_jsonl(\"test.jsonl\")"
   ]
  },
  {
   "cell_type": "code",
   "execution_count": null,
   "id": "c978a822",
   "metadata": {},
   "outputs": [],
   "source": []
  }
 ],
 "metadata": {
  "kernelspec": {
   "display_name": "base",
   "language": "python",
   "name": "python3"
  },
  "language_info": {
   "codemirror_mode": {
    "name": "ipython",
    "version": 3
   },
   "file_extension": ".py",
   "mimetype": "text/x-python",
   "name": "python",
   "nbconvert_exporter": "python",
   "pygments_lexer": "ipython3",
   "version": "3.12.4"
  }
 },
 "nbformat": 4,
 "nbformat_minor": 5
}
