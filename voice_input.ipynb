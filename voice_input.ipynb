{
 "cells": [
  {
   "cell_type": "code",
   "execution_count": 1,
   "id": "d9469225",
   "metadata": {},
   "outputs": [],
   "source": [
    "import tkinter as tk\n",
    "import sounddevice as sd\n",
    "from scipy.io.wavfile import write\n",
    "import threading\n",
    "import datetime\n",
    "import numpy as np\n",
    "import whisper\n",
    "import os"
   ]
  },
  {
   "cell_type": "code",
   "execution_count": 2,
   "id": "382d6ac7",
   "metadata": {},
   "outputs": [],
   "source": [
    "# Global variables\n",
    "fs = 44100  # Sample rate\n",
    "recording = []\n",
    "is_recording = False"
   ]
  },
  {
   "cell_type": "code",
   "execution_count": 3,
   "id": "f09a4705",
   "metadata": {},
   "outputs": [],
   "source": [
    "def start_recording():\n",
    "    global recording, is_recording\n",
    "    is_recording = True\n",
    "    recording = []\n",
    "\n",
    "    def callback(indata, frames, time, status):\n",
    "        if is_recording:\n",
    "            recording.append(indata.copy())\n",
    "\n",
    "    stream = sd.InputStream(samplerate=fs, channels=1, callback=callback)\n",
    "    stream.start()\n",
    "    start_button.config(state=\"disabled\")\n",
    "    stop_button.config(state=\"normal\")\n",
    "    output_label.config(text=\"🎤 Recording...\")\n",
    "\n",
    "    def keep_stream_open():\n",
    "        while is_recording:\n",
    "            sd.sleep(100)\n",
    "        stream.stop()\n",
    "        stream.close()\n",
    "\n",
    "    threading.Thread(target=keep_stream_open).start()\n"
   ]
  },
  {
   "cell_type": "code",
   "execution_count": 4,
   "id": "315e5d61",
   "metadata": {},
   "outputs": [],
   "source": [
    "def stop_recording():\n",
    "    global is_recording\n",
    "    is_recording = False\n",
    "    start_button.config(state=\"normal\")\n",
    "    stop_button.config(state=\"disabled\")\n",
    "    output_label.config(text=\"🛑 Recording stopped...\")\n",
    "\n",
    "    # Save to WAV\n",
    "    audio = np.concatenate(recording, axis=0)\n",
    "    filename = f\"recording_{datetime.datetime.now().strftime('%Y%m%d_%H%M%S')}.wav\"\n",
    "    write(filename, fs, audio)\n",
    "    output_label.config(text=f\"✅ Saved as {filename}\\n🔍 Transcribing...\")\n",
    "\n",
    "    # Transcribe using Whisper\n",
    "    model = whisper.load_model(\"base\")  # You can also use \"small\", \"medium\", etc.\n",
    "    result = model.transcribe(filename)\n",
    "\n",
    "    # Show transcribed text\n",
    "    transcription = result[\"text\"]\n",
    "    output_label.config(text=f\"📝 Transcription:\\n{transcription}\")"
   ]
  },
  {
   "cell_type": "code",
   "execution_count": 5,
   "id": "5ee84eef",
   "metadata": {},
   "outputs": [
    {
     "name": "stderr",
     "output_type": "stream",
     "text": [
      "C:\\Users\\HP\\AppData\\Roaming\\Python\\Python312\\site-packages\\whisper\\transcribe.py:132: UserWarning: FP16 is not supported on CPU; using FP32 instead\n",
      "  warnings.warn(\"FP16 is not supported on CPU; using FP32 instead\")\n"
     ]
    }
   ],
   "source": [
    "# GUI setup\n",
    "root = tk.Tk()\n",
    "root.title(\"🎙️ Voice-to-Text Recorder\")\n",
    "root.geometry(\"400x300\")\n",
    "\n",
    "start_button = tk.Button(root, text=\"Start Recording\", command=start_recording, bg=\"green\", fg=\"white\", font=('Arial', 12))\n",
    "start_button.pack(pady=10)\n",
    "\n",
    "stop_button = tk.Button(root, text=\"Stop Recording\", command=stop_recording, bg=\"red\", fg=\"white\", font=('Arial', 12))\n",
    "stop_button.pack(pady=10)\n",
    "stop_button.config(state=\"disabled\")\n",
    "\n",
    "output_label = tk.Label(root, text=\"\", wraplength=380, justify=\"left\", font=('Arial', 10))\n",
    "output_label.pack(pady=20)\n",
    "\n",
    "root.mainloop()"
   ]
  },
  {
   "cell_type": "code",
   "execution_count": null,
   "id": "74cb99d8",
   "metadata": {},
   "outputs": [],
   "source": []
  }
 ],
 "metadata": {
  "kernelspec": {
   "display_name": "Python 3",
   "language": "python",
   "name": "python3"
  },
  "language_info": {
   "codemirror_mode": {
    "name": "ipython",
    "version": 3
   },
   "file_extension": ".py",
   "mimetype": "text/x-python",
   "name": "python",
   "nbconvert_exporter": "python",
   "pygments_lexer": "ipython3",
   "version": "3.12.4"
  }
 },
 "nbformat": 4,
 "nbformat_minor": 5
}
