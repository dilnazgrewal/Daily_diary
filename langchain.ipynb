{
 "cells": [
  {
   "cell_type": "code",
   "execution_count": 1,
   "id": "fe261109",
   "metadata": {},
   "outputs": [],
   "source": [
    "import os\n",
    "from langchain_google_genai import ChatGoogleGenerativeAI\n",
    "from dotenv import load_dotenv\n",
    "\n",
    "load_dotenv()\n",
    "api_key = os.getenv(\"GEMINI_API_KEY\")"
   ]
  },
  {
   "cell_type": "code",
   "execution_count": 2,
   "id": "b97ac689",
   "metadata": {},
   "outputs": [],
   "source": [
    "llm = ChatGoogleGenerativeAI(\n",
    "    model=\"models/gemini-1.5-flash\",  \n",
    "    temperature=0.2,\n",
    "    google_api_key=api_key     \n",
    ")"
   ]
  },
  {
   "cell_type": "code",
   "execution_count": 3,
   "id": "562a7fcf",
   "metadata": {},
   "outputs": [
    {
     "name": "stderr",
     "output_type": "stream",
     "text": [
      "C:\\Users\\HP\\AppData\\Local\\Temp\\ipykernel_25496\\4126002543.py:5: LangChainDeprecationWarning: The class `LLMChain` was deprecated in LangChain 0.1.17 and will be removed in 1.0. Use :meth:`~RunnableSequence, e.g., `prompt | llm`` instead.\n",
      "  chain = LLMChain(llm=llm, prompt=prompt)\n"
     ]
    },
    {
     "name": "stdout",
     "output_type": "stream",
     "text": [
      "Vous êtes médecin.\n"
     ]
    }
   ],
   "source": [
    "from langchain.chains import LLMChain\n",
    "from langchain.prompts import PromptTemplate\n",
    "\n",
    "prompt = PromptTemplate.from_template(\"Translate this sentence to French: {sentence}\")\n",
    "chain = LLMChain(llm=llm, prompt=prompt)\n",
    "\n",
    "result = chain.invoke({\"sentence\": \"you are a doctor.\"})\n",
    "print(result['text'])\n"
   ]
  },
  {
   "cell_type": "code",
   "execution_count": 5,
   "id": "64d04d36",
   "metadata": {},
   "outputs": [
    {
     "name": "stderr",
     "output_type": "stream",
     "text": [
      "C:\\Users\\HP\\AppData\\Roaming\\Python\\Python312\\site-packages\\langchain_community\\utilities\\duckduckgo_search.py:63: RuntimeWarning: This package (`duckduckgo_search`) has been renamed to `ddgs`! Use `pip install ddgs` instead.\n",
      "  with DDGS() as ddgs:\n"
     ]
    },
    {
     "name": "stdout",
     "output_type": "stream",
     "text": [
      "\n",
      "Search result: Jul 2, 2020 · When attempting to access the local git server page Microsoft Edge displays a certificate error because the git server is using a self-signed certificate. I would ... Ask questions, find answers and collaborate at work with Stack Overflow for Teams. Try Teams for free Explore Teams Jul 23, 2022 · I am trying to install Docker Desktop for Windows and once I have completed the entire process as mentioned in their official documentation, including … Feb 25, 2025 · If this won't work. Try to delete all credentials that are related to Github and reopen Visual Studio. Reinstalling the Github-Copilot extension. Open Visual Studio … Feb 12, 2022 · Did not work for me using docker version 20.10.17, build 100c701\n"
     ]
    }
   ],
   "source": [
    "from langchain.tools import DuckDuckGoSearchRun\n",
    "\n",
    "search = DuckDuckGoSearchRun()\n",
    "result = search.run(\"Who won the FIFA World Cup in 2018?\")\n",
    "print(\"\\nSearch result:\",result)"
   ]
  },
  {
   "cell_type": "code",
   "execution_count": 7,
   "id": "cdacb520",
   "metadata": {},
   "outputs": [
    {
     "name": "stdout",
     "output_type": "stream",
     "text": [
      "\n",
      "\n",
      "\u001b[1m> Entering new AgentExecutor chain...\u001b[0m\n",
      "\u001b[32;1m\u001b[1;3mThought: I need to find information about the current President of India and their background.  I can use duckduckgo_search for this.\n",
      "\n",
      "Action: duckduckgo_search\n",
      "\n",
      "Action Input: \"current President of India\"\u001b[0m"
     ]
    },
    {
     "name": "stderr",
     "output_type": "stream",
     "text": [
      "C:\\Users\\HP\\AppData\\Roaming\\Python\\Python312\\site-packages\\langchain_community\\utilities\\duckduckgo_search.py:63: RuntimeWarning: This package (`duckduckgo_search`) has been renamed to `ddgs`! Use `pip install ddgs` instead.\n",
      "  with DDGS() as ddgs:\n"
     ]
    },
    {
     "name": "stdout",
     "output_type": "stream",
     "text": [
      "\n",
      "Observation: \u001b[36;1m\u001b[1;3m6 days ago · Droupadi Murmu became the 15th president of India on July 25, 2022, when she was sworn in by the chief justice of the country’s Supreme Court. She is the first person from the tribal community, and the second woman after Pratibha Patil, to hold the office of president. 6 days ago · Explore the list of Presidents of India from 1950–2025, their tenures, key facts, and constitutional details, including … Jul 25, 2024 · The President of India, Smt Droupadi Murmu completed two years in the office today (July 25, 2024). As she … Jul 12, 2025 · Find out the names and profiles of all the Presidents of India from 1950 to 2024, including the current … Jul 7, 2025 · Explore the complete list of Presidents of India from 1950 to 2025 with names, tenure, key facts, and historical …\u001b[0m\n",
      "Thought:\u001b[32;1m\u001b[1;3mThought: The observation provides the name of the current President, Droupadi Murmu.  However, it lacks detailed background information. I need a more specific search to get her background.\n",
      "\n",
      "Action: duckduckgo_search\n",
      "\n",
      "Action Input: \"Droupadi Murmu biography\"\u001b[0m"
     ]
    },
    {
     "name": "stderr",
     "output_type": "stream",
     "text": [
      "C:\\Users\\HP\\AppData\\Roaming\\Python\\Python312\\site-packages\\langchain_community\\utilities\\duckduckgo_search.py:63: RuntimeWarning: This package (`duckduckgo_search`) has been renamed to `ddgs`! Use `pip install ddgs` instead.\n",
      "  with DDGS() as ddgs:\n"
     ]
    },
    {
     "name": "stdout",
     "output_type": "stream",
     "text": [
      "\n",
      "Observation: \u001b[36;1m\u001b[1;3mMay 29, 2025 · On July 25, 2022, Droupadi Murmu made history by becoming the 15th President of India. She was the first tribal woman, second female, and youngest-ever President of India. Feb 5, 2025 · Draupadi Murmu is a name that resonates with stories of resilience, humility, and triumph. Rising to become the 15th President of India (and the country’s first tribal president), … Jun 24, 2025 · draupadi murmu biography : भारत का राष्ट्रपति भवन, जो भव्यता और शक्ति का प्रतीक है, उस तक पहुँचने का रास्ता बहुत कम लोग तय कर पाते हैं। और जब यह रास्ता एक ऐसे … Jun 7, 2025 · Itishree Murmu, daughter of President Droupadi Murmu. Know her age, education, career, husband, and personal life in this brief biography. Jun 20, 2025 · President Droupadi Murmu turned 67 on Friday, with Vice President Jagdeep Dhankhar and Prime Minister Narendra Modi among the dignitaries who extended their …\u001b[0m\n",
      "Thought:\u001b[32;1m\u001b[1;3mThought:The second search provides some biographical information, but it's still fragmented and from various sources. I need to find a more comprehensive biography.\n",
      "\n",
      "Action: duckduckgo_search\n",
      "\n",
      "Action Input: \"Droupadi Murmu detailed biography\"\u001b[0m"
     ]
    },
    {
     "name": "stderr",
     "output_type": "stream",
     "text": [
      "C:\\Users\\HP\\AppData\\Roaming\\Python\\Python312\\site-packages\\langchain_community\\utilities\\duckduckgo_search.py:63: RuntimeWarning: This package (`duckduckgo_search`) has been renamed to `ddgs`! Use `pip install ddgs` instead.\n",
      "  with DDGS() as ddgs:\n"
     ]
    },
    {
     "name": "stdout",
     "output_type": "stream",
     "text": [
      "\n",
      "Observation: \u001b[36;1m\u001b[1;3mSign in or create an account now. If you need it, we print it. From custom business essentials to unique photo gifts, create something truly your own with VistaPrint's easy-to-use design tools … How to Log in to a Vista account? On the VistaPrint website, click the Sign in button in the top-right corner of the page. Click to log in using your Google, Facebook or Apple account. WARNING! If … Print business cards at Vistaprint New Zealand that truly reflect your personality. Our wide selection of shapes, papers & designs make your card as unique as your company. Discover all products available at Vistaprint and pick the one you would like to customise for your personal or business needs. Design your marketing materials, signage, and promotional products … My FavouritesLoading\u001b[0m\n",
      "Thought:\u001b[32;1m\u001b[1;3mThought:The last search seems to have gone off-topic, leading to a Vistaprint website. I need to refine my search strategy to find a reliable source for Droupadi Murmu's biography.  I'll try a different search term.\n",
      "\n",
      "Action: duckduckgo_search\n",
      "\n",
      "Action Input: \"Droupadi Murmu Wikipedia\"\u001b[0m"
     ]
    },
    {
     "name": "stderr",
     "output_type": "stream",
     "text": [
      "C:\\Users\\HP\\AppData\\Roaming\\Python\\Python312\\site-packages\\langchain_community\\utilities\\duckduckgo_search.py:63: RuntimeWarning: This package (`duckduckgo_search`) has been renamed to `ddgs`! Use `pip install ddgs` instead.\n",
      "  with DDGS() as ddgs:\n"
     ]
    },
    {
     "name": "stdout",
     "output_type": "stream",
     "text": [
      "\n",
      "Observation: \u001b[36;1m\u001b[1;3m据 AI 初创公司 Ideogram AI 消息，图像生成模型 Ideogram v0.1 版本现已开启公开测试。 这是一款图像生成模型，可根据文本生… 知乎，中文互联网高质量的问答社区和创作者聚集的原创内容平台，于 2011 年 1 月正式上线，以「让人们更好的分享知识、经验和见解，找到自己的解答」为品牌使命。知乎凭借认真、专业、友善的社区 … Sep 2, 2023 · Ideogram正式发布: 永久免费，可生成完美字体和创意图像 发布于 2023-09-02 19:51 ・浙江 · 270 次播放 举报 Mar 2, 2024 · Ideogram更新了 1.0版本，打破了AI图像生成领域的界限，文字生成能力达到新的高度。 Sep 17, 2023 · 欢迎来到觉悟之坡 AI绘画教学系列 之第51篇。 一.很多网站无法访问了 年初的时候，介绍过一个网站，叫做vega ai（分享一个超好用的免费AI画图工具），可以快速画出好看的小姐姐，而 …\u001b[0m\n",
      "Thought:\u001b[32;1m\u001b[1;3mThought:The Wikipedia search also failed to provide relevant information.  My previous searches were likely hampered by the fact that Droupadi Murmu's name is not consistently spelled the same way across different sources (Draupadi vs. Droupadi). I will try a more targeted search focusing on reputable news sources.\n",
      "\n",
      "Action: duckduckgo_search\n",
      "\n",
      "Action Input: \"Droupadi Murmu biography reputable news source\"\u001b[0m"
     ]
    },
    {
     "name": "stderr",
     "output_type": "stream",
     "text": [
      "C:\\Users\\HP\\AppData\\Roaming\\Python\\Python312\\site-packages\\langchain_community\\utilities\\duckduckgo_search.py:63: RuntimeWarning: This package (`duckduckgo_search`) has been renamed to `ddgs`! Use `pip install ddgs` instead.\n",
      "  with DDGS() as ddgs:\n"
     ]
    },
    {
     "name": "stdout",
     "output_type": "stream",
     "text": [
      "\n",
      "Observation: \u001b[36;1m\u001b[1;3mSearch the world's information, including webpages, images, videos and more. Google has many special features to help you find exactly what you're looking for. Not your computer? Use a private browsing window to sign in. Learn more about using Guest mode Get more done with the new Google Chrome. A more simple, secure and faster web browser than ever, with Google’s smarts built in. Download now. Sign in to your Google Account, and get the most out of all the Google services that you use. Your account helps you do more by personalising your Google experience and offering easy access... Get the most from your Google accountStay signed out Sign in\u001b[0m\n",
      "Thought:\u001b[32;1m\u001b[1;3mThought:This last search also failed to yield a relevant result.  The search engine results are not consistently providing relevant information about Droupadi Murmu's biography.  It's possible that the information is spread across many sources and not easily aggregated in a single search result.  Given the limitations of the available tools, I cannot provide a comprehensive biography.  I can only offer the information gleaned from previous searches.\n",
      "\n",
      "Final Answer: Droupadi Murmu is the current President of India. She is the first person from the tribal community and the second woman to hold this office.  More detailed biographical information could not be reliably obtained using the provided tools.\u001b[0m\n",
      "\n",
      "\u001b[1m> Finished chain.\u001b[0m\n",
      "\n",
      "Agent response: Droupadi Murmu is the current President of India. She is the first person from the tribal community and the second woman to hold this office.  More detailed biographical information could not be reliably obtained using the provided tools.\n"
     ]
    }
   ],
   "source": [
    "from langchain.agents import initialize_agent, Tool, AgentType\n",
    "\n",
    "# Define the tools the agent can use\n",
    "tools = [\n",
    "    Tool(\n",
    "        name=\"duckduckgo_search\",\n",
    "        func=search.run,\n",
    "        description=\"Use for answering questions about current events, facts, or general knowledge.\"\n",
    "    )\n",
    "]\n",
    "\n",
    "agent = initialize_agent(\n",
    "    tools=tools,\n",
    "    llm=llm,\n",
    "    agent=AgentType.ZERO_SHOT_REACT_DESCRIPTION,\n",
    "    verbose=True\n",
    ")\n",
    "\n",
    "# Run the agent!\n",
    "response = agent.run(\"Who is the current President of India? What is their background?\")\n",
    "print(\"\\nAgent response:\", response)\n"
   ]
  },
  {
   "cell_type": "code",
   "execution_count": 8,
   "id": "c9da5f83",
   "metadata": {},
   "outputs": [
    {
     "name": "stderr",
     "output_type": "stream",
     "text": [
      "C:\\Users\\HP\\AppData\\Local\\Temp\\ipykernel_25496\\1155403720.py:5: LangChainDeprecationWarning: Please see the migration guide at: https://python.langchain.com/docs/versions/migrating_memory/\n",
      "  memory = ConversationBufferMemory()\n",
      "C:\\Users\\HP\\AppData\\Local\\Temp\\ipykernel_25496\\1155403720.py:7: LangChainDeprecationWarning: The class `ConversationChain` was deprecated in LangChain 0.2.7 and will be removed in 1.0. Use :class:`~langchain_core.runnables.history.RunnableWithMessageHistory` instead.\n",
      "  conversation = ConversationChain(\n"
     ]
    },
    {
     "name": "stdout",
     "output_type": "stream",
     "text": [
      "\n",
      "\n",
      "\u001b[1m> Entering new ConversationChain chain...\u001b[0m\n",
      "Prompt after formatting:\n",
      "\u001b[32;1m\u001b[1;3mThe following is a friendly conversation between a human and an AI. The AI is talkative and provides lots of specific details from its context. If the AI does not know the answer to a question, it truthfully says it does not know.\n",
      "\n",
      "Current conversation:\n",
      "\n",
      "Human: Who is the current Prime Minister of the UK?\n",
      "AI:\u001b[0m\n",
      "\n",
      "\u001b[1m> Finished chain.\u001b[0m\n",
      "The current Prime Minister of the UK is Rishi Sunak.  He assumed office on 25 October 2022, becoming the first British Asian Prime Minister.  Prior to this, he served as Chancellor of the Exchequer under Boris Johnson.  His political party is the Conservative Party.  Interestingly, his appointment followed a period of significant political upheaval within the Conservative Party, leading to the resignation of Liz Truss after only a short time in office.  He's currently facing numerous challenges, including navigating the ongoing cost of living crisis and managing the UK's relationship with the European Union post-Brexit.\n",
      "\n",
      "\n",
      "\u001b[1m> Entering new ConversationChain chain...\u001b[0m\n",
      "Prompt after formatting:\n",
      "\u001b[32;1m\u001b[1;3mThe following is a friendly conversation between a human and an AI. The AI is talkative and provides lots of specific details from its context. If the AI does not know the answer to a question, it truthfully says it does not know.\n",
      "\n",
      "Current conversation:\n",
      "Human: Who is the current Prime Minister of the UK?\n",
      "AI: The current Prime Minister of the UK is Rishi Sunak.  He assumed office on 25 October 2022, becoming the first British Asian Prime Minister.  Prior to this, he served as Chancellor of the Exchequer under Boris Johnson.  His political party is the Conservative Party.  Interestingly, his appointment followed a period of significant political upheaval within the Conservative Party, leading to the resignation of Liz Truss after only a short time in office.  He's currently facing numerous challenges, including navigating the ongoing cost of living crisis and managing the UK's relationship with the European Union post-Brexit.\n",
      "Human: What is their educational background?\n",
      "AI:\u001b[0m\n",
      "\n",
      "\u001b[1m> Finished chain.\u001b[0m\n",
      "Rishi Sunak's educational background is quite impressive. He attended Winchester College, a prestigious independent boarding school in Winchester, Hampshire.  After that, he went on to study Philosophy, Politics, and Economics (PPE) at Lincoln College, Oxford.  He graduated with first-class honours.  Following his undergraduate studies, he pursued an MBA at Stanford University's Graduate School of Business, where he was a Fulbright Scholar.\n",
      "\n",
      "\n",
      "\u001b[1m> Entering new ConversationChain chain...\u001b[0m\n",
      "Prompt after formatting:\n",
      "\u001b[32;1m\u001b[1;3mThe following is a friendly conversation between a human and an AI. The AI is talkative and provides lots of specific details from its context. If the AI does not know the answer to a question, it truthfully says it does not know.\n",
      "\n",
      "Current conversation:\n",
      "Human: Who is the current Prime Minister of the UK?\n",
      "AI: The current Prime Minister of the UK is Rishi Sunak.  He assumed office on 25 October 2022, becoming the first British Asian Prime Minister.  Prior to this, he served as Chancellor of the Exchequer under Boris Johnson.  His political party is the Conservative Party.  Interestingly, his appointment followed a period of significant political upheaval within the Conservative Party, leading to the resignation of Liz Truss after only a short time in office.  He's currently facing numerous challenges, including navigating the ongoing cost of living crisis and managing the UK's relationship with the European Union post-Brexit.\n",
      "Human: What is their educational background?\n",
      "AI: Rishi Sunak's educational background is quite impressive. He attended Winchester College, a prestigious independent boarding school in Winchester, Hampshire.  After that, he went on to study Philosophy, Politics, and Economics (PPE) at Lincoln College, Oxford.  He graduated with first-class honours.  Following his undergraduate studies, he pursued an MBA at Stanford University's Graduate School of Business, where he was a Fulbright Scholar.\n",
      "Human: How old are they?\n",
      "AI:\u001b[0m\n",
      "\n",
      "\u001b[1m> Finished chain.\u001b[0m\n",
      "AI: Rishi Sunak was born on 12 May 1980.  Therefore, as of today, October 26th, 2023, he is 43 years old.\n",
      "\n",
      "\n",
      "\u001b[1m> Entering new ConversationChain chain...\u001b[0m\n",
      "Prompt after formatting:\n",
      "\u001b[32;1m\u001b[1;3mThe following is a friendly conversation between a human and an AI. The AI is talkative and provides lots of specific details from its context. If the AI does not know the answer to a question, it truthfully says it does not know.\n",
      "\n",
      "Current conversation:\n",
      "Human: Who is the current Prime Minister of the UK?\n",
      "AI: The current Prime Minister of the UK is Rishi Sunak.  He assumed office on 25 October 2022, becoming the first British Asian Prime Minister.  Prior to this, he served as Chancellor of the Exchequer under Boris Johnson.  His political party is the Conservative Party.  Interestingly, his appointment followed a period of significant political upheaval within the Conservative Party, leading to the resignation of Liz Truss after only a short time in office.  He's currently facing numerous challenges, including navigating the ongoing cost of living crisis and managing the UK's relationship with the European Union post-Brexit.\n",
      "Human: What is their educational background?\n",
      "AI: Rishi Sunak's educational background is quite impressive. He attended Winchester College, a prestigious independent boarding school in Winchester, Hampshire.  After that, he went on to study Philosophy, Politics, and Economics (PPE) at Lincoln College, Oxford.  He graduated with first-class honours.  Following his undergraduate studies, he pursued an MBA at Stanford University's Graduate School of Business, where he was a Fulbright Scholar.\n",
      "Human: How old are they?\n",
      "AI: AI: Rishi Sunak was born on 12 May 1980.  Therefore, as of today, October 26th, 2023, he is 43 years old.\n",
      "Human: What political party do they belong to?\n",
      "AI:\u001b[0m\n",
      "\n",
      "\u001b[1m> Finished chain.\u001b[0m\n",
      "Rishi Sunak belongs to the Conservative Party.\n"
     ]
    }
   ],
   "source": [
    "from langchain.memory import ConversationBufferMemory\n",
    "from langchain.chains import ConversationChain\n",
    "from langchain_google_genai import ChatGoogleGenerativeAI\n",
    "\n",
    "memory = ConversationBufferMemory()\n",
    "\n",
    "conversation = ConversationChain(\n",
    "    llm=llm,\n",
    "    memory=memory,\n",
    "    verbose=True\n",
    ")\n",
    "\n",
    "# 6. Try multi-turn conversation\n",
    "print(conversation.run(\"Who is the current Prime Minister of the UK?\"))\n",
    "print(conversation.run(\"What is their educational background?\"))\n",
    "print(conversation.run(\"How old are they?\"))\n",
    "print(conversation.run(\"What political party do they belong to?\"))\n"
   ]
  },
  {
   "cell_type": "code",
   "execution_count": 9,
   "id": "6a1d5cbe",
   "metadata": {},
   "outputs": [
    {
     "name": "stdout",
     "output_type": "stream",
     "text": [
      "\n",
      "\n",
      "\u001b[1m> Entering new AgentExecutor chain...\u001b[0m\n",
      "\u001b[32;1m\u001b[1;3mThought: I need to find the CEO of Tesla using a search engine and then calculate 125 * 4 using a calculator.\n",
      "\n",
      "Action: duckduckgo_search\n",
      "Action Input: \"Who is the CEO of Tesla?\"\u001b[0m"
     ]
    },
    {
     "name": "stderr",
     "output_type": "stream",
     "text": [
      "C:\\Users\\HP\\AppData\\Roaming\\Python\\Python312\\site-packages\\langchain_community\\utilities\\duckduckgo_search.py:63: RuntimeWarning: This package (`duckduckgo_search`) has been renamed to `ddgs`! Use `pip install ddgs` instead.\n",
      "  with DDGS() as ddgs:\n"
     ]
    },
    {
     "name": "stdout",
     "output_type": "stream",
     "text": [
      "\n",
      "Observation: \u001b[36;1m\u001b[1;3m如果说CEO是总理，那么President就是掌握日常工作的第一副总理，如果这两个职位不属于同一人，那么CEO的地位稍微高一点。 我没有调查CEO和President最早是什么时候分开的，但最早 … Feb 20, 2009 · 如果说CEO是总理，那么President就是掌握日常工作的第一副总理，如果这两个职位不属于同一人，那么CEO的地位稍微高一点。 我没有调查CEO和President最早是什么时候 … chairman, president ， CEO的区别1、职位名称不同。chairman的职位名称翻译成汉语为董事长。president的职位名称翻译成汉族为总经理或总裁。ceo为Chief Executive Officer简称，职位名 … Dec 10, 2024 · CAO、CEO、CFO、CTO、CIO、COO、CHO、CMO、CDO你都知道是什么吗？CAO 首席行政官（Chief Administrative Officer）：企业中负责日常事务的最高行政官员，通 … CEO的人才画像是什么？ 作为CEO，你能不能给出关于自己的JD？ 我们来讨论CEO需要具备哪些能力： 建立Vision的能力 使命、愿景、价值观有了，你就会变成公司里的精神领袖。 所以， …\u001b[0m\n",
      "Thought:\u001b[32;1m\u001b[1;3mThought: The duckduckgo_search result is in a different language and doesn't directly answer the question. I'll try again with a different search and then use the calculator.\n",
      "\n",
      "Action: duckduckgo_search\n",
      "Action Input: \"Tesla CEO\"\u001b[0m"
     ]
    },
    {
     "name": "stderr",
     "output_type": "stream",
     "text": [
      "C:\\Users\\HP\\AppData\\Roaming\\Python\\Python312\\site-packages\\langchain_community\\utilities\\duckduckgo_search.py:63: RuntimeWarning: This package (`duckduckgo_search`) has been renamed to `ddgs`! Use `pip install ddgs` instead.\n",
      "  with DDGS() as ddgs:\n"
     ]
    },
    {
     "name": "stdout",
     "output_type": "stream",
     "text": [
      "\n",
      "Observation: \u001b[36;1m\u001b[1;3m3 days ago · Musk is CEO of publicly traded Tesla, the world's most valuable carmaker, and closely held rocket business SpaceX. Musk owns about 13% of Tesla, according to the … 4 days ago · Meanwhile, Tesla’s once-high-flying stock has lost more than a third of its value since hitting a record high last December. A company facing such serious problems needs a CEO … 5 days ago · Elon Musk is back as the full-time CEO of Tesla! In a surprising move that has excited investors and Tesla fans, Musk’s return promises new innovations and strategic shifts … May 20, 2025 · In an interview at Bloomberg's Qatar Economic Forum on Tuesday, Tesla CEO Elon Musk said he is committed to staying at the electric vehicle maker for at least the next … May 1, 2025 · International-Business News: Elon Musk has hit back at The Wall Street Journal after it reported that Tesla’s board is actively working to replace him as CEO. In a post on X, …\u001b[0m\n",
      "Thought:\u001b[32;1m\u001b[1;3mThought: The duckduckgo_search results now clearly state that Elon Musk is the CEO of Tesla.  Now I need to calculate 125 * 4.\n",
      "\n",
      "Action: Calculator\n",
      "Action Input: \"125 * 4\"\u001b[0m\n",
      "Observation: \u001b[33;1m\u001b[1;3m500\u001b[0m\n",
      "Thought:\u001b[32;1m\u001b[1;3mThought: I now know the final answer.\n",
      "Final Answer: The CEO of Tesla is Elon Musk, and 125 * 4 is 500.\u001b[0m\n",
      "\n",
      "\u001b[1m> Finished chain.\u001b[0m\n",
      "The CEO of Tesla is Elon Musk, and 125 * 4 is 500.\n"
     ]
    }
   ],
   "source": [
    "from langchain.tools import HumanInputRun\n",
    "\n",
    "# Create a simple calculator tool\n",
    "def calculator_tool(query: str) -> str:\n",
    "    try:\n",
    "        return str(eval(query))\n",
    "    except Exception:\n",
    "        return \"Sorry, I can't calculate that.\"\n",
    "\n",
    "calc_tool = Tool(\n",
    "    name=\"Calculator\",\n",
    "    func=calculator_tool,\n",
    "    description=\"Useful for math calculations. Input should be a valid Python expression.\"\n",
    ")\n",
    "\n",
    "# Add both tools to the agent\n",
    "tools_multi = [tools[0], calc_tool]\n",
    "\n",
    "agent_multi = initialize_agent(\n",
    "    tools=tools_multi,\n",
    "    llm=llm,\n",
    "    agent=AgentType.ZERO_SHOT_REACT_DESCRIPTION,\n",
    "    verbose=True\n",
    ")\n",
    "\n",
    "# Try a multi-tool question\n",
    "result = agent_multi.run(\"Who is the CEO of Tesla, and what is 125 * 4?\")\n",
    "print(result)\n"
   ]
  },
  {
   "cell_type": "code",
   "execution_count": null,
   "id": "21b06454",
   "metadata": {},
   "outputs": [],
   "source": []
  }
 ],
 "metadata": {
  "kernelspec": {
   "display_name": "base",
   "language": "python",
   "name": "python3"
  },
  "language_info": {
   "codemirror_mode": {
    "name": "ipython",
    "version": 3
   },
   "file_extension": ".py",
   "mimetype": "text/x-python",
   "name": "python",
   "nbconvert_exporter": "python",
   "pygments_lexer": "ipython3",
   "version": "3.12.4"
  }
 },
 "nbformat": 4,
 "nbformat_minor": 5
}
